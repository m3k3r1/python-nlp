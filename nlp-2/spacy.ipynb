{
 "cells": [
  {
   "cell_type": "code",
   "execution_count": 1,
   "metadata": {
    "collapsed": true
   },
   "outputs": [],
   "source": [
    "import spacy\n",
    "nlp = spacy.load('en_core_web_sm')"
   ]
  },
  {
   "cell_type": "code",
   "execution_count": 3,
   "outputs": [],
   "source": [
    "doc = nlp(u'Tesla is looking at buying U.S. startup for $6 million')"
   ],
   "metadata": {
    "collapsed": false,
    "pycharm": {
     "name": "#%%\n"
    }
   }
  },
  {
   "cell_type": "code",
   "execution_count": 8,
   "outputs": [
    {
     "name": "stdout",
     "output_type": "stream",
     "text": [
      "Tesla - PROPN - nsubj\n",
      "is - AUX - aux\n",
      "looking - VERB - ROOT\n",
      "at - ADP - prep\n",
      "buying - VERB - pcomp\n",
      "U.S. - PROPN - compound\n",
      "startup - NOUN - dobj\n",
      "for - ADP - prep\n",
      "$ - SYM - quantmod\n",
      "6 - NUM - compound\n",
      "million - NUM - pobj\n"
     ]
    }
   ],
   "source": [
    "for token in doc:\n",
    "    print(f'{token.text} - {token.pos_} - {token.dep_}')"
   ],
   "metadata": {
    "collapsed": false,
    "pycharm": {
     "name": "#%%\n"
    }
   }
  },
  {
   "cell_type": "code",
   "execution_count": 9,
   "outputs": [
    {
     "data": {
      "text/plain": "[('tok2vec', <spacy.pipeline.tok2vec.Tok2Vec at 0x128f6a5e0>),\n ('tagger', <spacy.pipeline.tagger.Tagger at 0x128ef8400>),\n ('parser', <spacy.pipeline.dep_parser.DependencyParser at 0x128d532e0>),\n ('attribute_ruler',\n  <spacy.pipeline.attributeruler.AttributeRuler at 0x128d02480>),\n ('lemmatizer', <spacy.lang.en.lemmatizer.EnglishLemmatizer at 0x128d03040>),\n ('ner', <spacy.pipeline.ner.EntityRecognizer at 0x128d53220>)]"
     },
     "execution_count": 9,
     "metadata": {},
     "output_type": "execute_result"
    }
   ],
   "source": [
    "nlp.pipeline"
   ],
   "metadata": {
    "collapsed": false,
    "pycharm": {
     "name": "#%%\n"
    }
   }
  },
  {
   "cell_type": "code",
   "execution_count": 10,
   "outputs": [
    {
     "data": {
      "text/plain": "['tok2vec', 'tagger', 'parser', 'attribute_ruler', 'lemmatizer', 'ner']"
     },
     "execution_count": 10,
     "metadata": {},
     "output_type": "execute_result"
    }
   ],
   "source": [
    "nlp.pipe_names"
   ],
   "metadata": {
    "collapsed": false,
    "pycharm": {
     "name": "#%%\n"
    }
   }
  },
  {
   "cell_type": "code",
   "execution_count": 11,
   "outputs": [
    {
     "name": "stdout",
     "output_type": "stream",
     "text": [
      "Tesla - PROPN - nsubj\n",
      "is - AUX - aux\n",
      "n't - PART - neg\n",
      "looking - VERB - ROOT\n",
      "into - ADP - prep\n",
      "startups - NOUN - pobj\n",
      "anymore - ADV - advmod\n"
     ]
    }
   ],
   "source": [
    "doc_2 = nlp(u'Tesla isn\\'t looking into startups anymore')\n",
    "for token in doc_2:\n",
    "    print(f'{token.text} - {token.pos_} - {token.dep_}')"
   ],
   "metadata": {
    "collapsed": false,
    "pycharm": {
     "name": "#%%\n"
    }
   }
  }
 ],
 "metadata": {
  "kernelspec": {
   "display_name": "Python 3",
   "language": "python",
   "name": "python3"
  },
  "language_info": {
   "codemirror_mode": {
    "name": "ipython",
    "version": 2
   },
   "file_extension": ".py",
   "mimetype": "text/x-python",
   "name": "python",
   "nbconvert_exporter": "python",
   "pygments_lexer": "ipython2",
   "version": "2.7.6"
  }
 },
 "nbformat": 4,
 "nbformat_minor": 0
}