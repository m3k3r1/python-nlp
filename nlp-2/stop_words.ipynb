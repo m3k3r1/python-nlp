{
 "cells": [
  {
   "cell_type": "code",
   "execution_count": 1,
   "metadata": {
    "collapsed": true
   },
   "outputs": [],
   "source": [
    "import spacy\n",
    "nlp = spacy.load('en_core_web_sm')"
   ]
  },
  {
   "cell_type": "code",
   "execution_count": 2,
   "outputs": [
    {
     "name": "stdout",
     "output_type": "stream",
     "text": [
      "{'only', 'whenever', 'down', 'forty', 'also', 'somewhere', 'thus', 'namely', 'these', 'so', 'been', 'enough', 'empty', 'wherein', 'seems', 'moreover', 'would', 'at', 'my', 'anywhere', 'many', 'this', 'except', 'latter', 'him', 'nor', 'alone', 'anyway', 'who', 'by', 'hers', 'from', 'per', 'mine', 'has', 'onto', 'such', 'may', 'sometimes', 'she', 'next', 'thereby', 'nothing', 'of', \"'m\", 'one', 'up', 'how', 'towards', 'his', 'its', 'regarding', '’re', 'neither', 'what', 'serious', 'but', 'herein', 'further', 'whereas', 'bottom', 'three', 'well', 'full', 'above', 'often', 'himself', 'say', 'whether', 'last', 'when', 'or', '’ll', 'no', 'then', 'never', 'there', 'anyone', 'please', 'for', 'ten', 'even', 'thereafter', 'used', 'elsewhere', 'few', 'somehow', 'hundred', 'most', 'together', 'take', 'hereby', 'each', 'upon', '’d', 'just', 'us', 'beyond', 'all', 'side', 'whom', 'after', 'sixty', 'they', 'twelve', 'he', 'meanwhile', 'seeming', 'can', 'move', 'whatever', 'had', 'out', 'eleven', \"'ve\", 'four', 'put', 'themselves', 'should', '‘m', 'anyhow', 'part', 'nowhere', 'less', 'yourselves', 'herself', 'where', 'about', 'ours', 'none', 'itself', 'does', 'whereupon', 'wherever', 'you', 'either', 'other', 'make', 'mostly', 'ca', 'back', 'beside', 'seem', 'someone', 'hereupon', 'keep', 'name', 'hence', 'a', 'two', 'some', 'those', 'why', 'nobody', 'doing', 'during', 'off', 'did', 'besides', 'cannot', 'everything', 'call', 'more', 'therefore', 'formerly', 'against', 'although', 'were', 'must', 'n‘t', 'whereby', 'nevertheless', 'top', 'both', 'is', 'always', 'again', 'noone', 'due', 'her', 'afterwards', \"'re\", 'give', 'get', 'not', 'along', 'because', 'everywhere', 'now', 'among', 'fifty', 'too', 'if', 'third', 'whence', 'that', 'than', 'being', 'behind', 'however', 'eight', 'since', 'while', 'until', 'here', 'our', 'the', '‘ll', 'thru', 'be', 'n’t', \"'s\", 'on', 'ourselves', 'i', 'whereafter', 'below', 'something', 'we', '‘ve', 'really', 'via', 'do', 'else', 'own', 'became', 'using', 'latterly', 'former', 'might', 'me', 'whither', 'though', '’m', 'rather', 'everyone', 'anything', 'becoming', 'am', 'six', 'could', 'another', 'others', 'yet', 'have', 'hereafter', '’ve', 'quite', 'fifteen', 'whoever', 'done', 'before', 'otherwise', 'already', 'go', 'and', 'around', 'every', 'unless', 'thence', 'myself', 'over', 'ever', '‘s', 'made', 'are', 'without', 'in', 'show', 'indeed', 'front', 'nine', 'several', 'toward', 'twenty', 'various', 'therein', '‘re', 'to', 'once', 'still', 'with', 'very', \"n't\", 're', 'as', 'which', 'them', 'an', 'same', 'yours', 'across', 'beforehand', 'become', '’s', \"'ll\", 'first', 'into', 'yourself', 'amount', 'it', 'your', \"'d\", 'will', 'least', 'amongst', 'much', 'see', 'seemed', 'perhaps', '‘d', 'between', 'within', 'whose', 'almost', 'whole', 'throughout', 'their', 'sometime', 'was', 'under', 'any', 'five', 'thereupon', 'through', 'becomes'}\n"
     ]
    }
   ],
   "source": [
    "print(nlp.Defaults.stop_words)"
   ],
   "metadata": {
    "collapsed": false,
    "pycharm": {
     "name": "#%%\n"
    }
   }
  },
  {
   "cell_type": "code",
   "execution_count": 4,
   "outputs": [
    {
     "data": {
      "text/plain": "True"
     },
     "execution_count": 4,
     "metadata": {},
     "output_type": "execute_result"
    }
   ],
   "source": [
    "nlp.vocab['is'].is_stop"
   ],
   "metadata": {
    "collapsed": false,
    "pycharm": {
     "name": "#%%\n"
    }
   }
  },
  {
   "cell_type": "code",
   "execution_count": 7,
   "outputs": [
    {
     "name": "stdout",
     "output_type": "stream",
     "text": [
      "326\n",
      "327\n",
      "True\n"
     ]
    }
   ],
   "source": [
    "print(len(nlp.Defaults.stop_words))\n",
    "nlp.Defaults.stop_words.add('btw')\n",
    "print(len(nlp.Defaults.stop_words))\n",
    "print(nlp.vocab['btw'].is_stop)\n",
    "nlp.Defaults.stop_words.remove('btw')"
   ],
   "metadata": {
    "collapsed": false,
    "pycharm": {
     "name": "#%%\n"
    }
   }
  }
 ],
 "metadata": {
  "kernelspec": {
   "display_name": "Python 3",
   "language": "python",
   "name": "python3"
  },
  "language_info": {
   "codemirror_mode": {
    "name": "ipython",
    "version": 2
   },
   "file_extension": ".py",
   "mimetype": "text/x-python",
   "name": "python",
   "nbconvert_exporter": "python",
   "pygments_lexer": "ipython2",
   "version": "2.7.6"
  }
 },
 "nbformat": 4,
 "nbformat_minor": 0
}