{
 "cells": [
  {
   "cell_type": "code",
   "execution_count": 2,
   "metadata": {
    "collapsed": true
   },
   "outputs": [
    {
     "name": "stdout",
     "output_type": "stream",
     "text": [
      "Writing text.txt\n"
     ]
    }
   ],
   "source": [
    "%%writefile text.txt\n",
    "Hello this a quick text file"
   ]
  },
  {
   "cell_type": "code",
   "execution_count": 8,
   "outputs": [
    {
     "name": "stdout",
     "output_type": "stream",
     "text": [
      "Hello this a quick text file\n",
      "This is another line\n",
      "\n",
      "\n",
      "Hello this a quick text file\n",
      "This is another line\n",
      "\n",
      "Hello this a quick text file\n",
      "This is another line\n",
      "\n",
      "Hello this a quick text file\n",
      "\n",
      "This is another line\n",
      "\n"
     ]
    }
   ],
   "source": [
    "myfile = open('text.txt')\n",
    "print(myfile.read())\n",
    "print(myfile.read())\n",
    "\n",
    "# Move cursor back to start\n",
    "myfile.seek(0)\n",
    "print(myfile.read())\n",
    "\n",
    "myfile.seek(0)\n",
    "content = myfile.read()\n",
    "print(content)\n",
    "\n",
    "myfile.seek(0)\n",
    "lines = myfile.readlines()\n",
    "for line in lines:\n",
    "    print(f'{line}')\n",
    "\n",
    "\n",
    "myfile.close()"
   ],
   "metadata": {
    "collapsed": false,
    "pycharm": {
     "name": "#%%\n"
    }
   }
  },
  {
   "cell_type": "code",
   "execution_count": 10,
   "outputs": [],
   "source": [
    "myfile = open('text.txt', 'w+')\n",
    "myfile.read()\n",
    "myfile.write('new text added')\n",
    "myfile.seek(0)\n",
    "myfile.read()\n",
    "myfile.close()"
   ],
   "metadata": {
    "collapsed": false,
    "pycharm": {
     "name": "#%%\n"
    }
   }
  },
  {
   "cell_type": "code",
   "execution_count": 14,
   "outputs": [],
   "source": [
    "myfile = open('text.txt', 'a+')\n",
    "myfile.read()\n",
    "myfile.write('new text added')\n",
    "myfile.seek(0)\n",
    "myfile.read()\n",
    "myfile.close()"
   ],
   "metadata": {
    "collapsed": false,
    "pycharm": {
     "name": "#%%\n"
    }
   }
  },
  {
   "cell_type": "code",
   "execution_count": 16,
   "outputs": [
    {
     "name": "stdout",
     "output_type": "stream",
     "text": [
      "new text addednew text addednew text addednew text added\n"
     ]
    }
   ],
   "source": [
    "with open('text.txt', 'r') as file:\n",
    "    content = file.read()\n",
    "    print(content)\n"
   ],
   "metadata": {
    "collapsed": false,
    "pycharm": {
     "name": "#%%\n"
    }
   }
  }
 ],
 "metadata": {
  "kernelspec": {
   "display_name": "Python 3 (ipykernel)",
   "language": "python",
   "name": "python3"
  },
  "language_info": {
   "codemirror_mode": {
    "name": "ipython",
    "version": 3
   },
   "file_extension": ".py",
   "mimetype": "text/x-python",
   "name": "python",
   "nbconvert_exporter": "python",
   "pygments_lexer": "ipython3",
   "version": "3.8.10"
  }
 },
 "nbformat": 4,
 "nbformat_minor": 1
}