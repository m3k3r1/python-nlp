{
 "cells": [
  {
   "cell_type": "code",
   "execution_count": 2,
   "metadata": {
    "collapsed": true
   },
   "outputs": [],
   "source": [
    "import PyPDF2\n"
   ]
  },
  {
   "cell_type": "code",
   "execution_count": 6,
   "outputs": [
    {
     "name": "stdout",
     "output_type": "stream",
     "text": [
      "5\n"
     ]
    }
   ],
   "source": [
    "with open('US_Declaration.pdf', mode='rb') as file:\n",
    "    pdf_reader = PyPDF2.PdfFileReader(file)\n",
    "    print(pdf_reader.numPages)\n",
    "    page_one = pdf_reader.getPage(0)\n",
    "    #print(page_one.extractText())\n",
    "    with open('new_pdf.pdf', 'wb') as pdf_output:\n",
    "        pdf_writter = PyPDF2.PdfFileWriter()\n",
    "        pdf_writter.addPage(page_one)\n",
    "        pdf_writter.write(pdf_output)"
   ],
   "metadata": {
    "collapsed": false,
    "pycharm": {
     "name": "#%%\n"
    }
   }
  }
 ],
 "metadata": {
  "kernelspec": {
   "display_name": "Python 3",
   "language": "python",
   "name": "python3"
  },
  "language_info": {
   "codemirror_mode": {
    "name": "ipython",
    "version": 2
   },
   "file_extension": ".py",
   "mimetype": "text/x-python",
   "name": "python",
   "nbconvert_exporter": "python",
   "pygments_lexer": "ipython2",
   "version": "2.7.6"
  }
 },
 "nbformat": 4,
 "nbformat_minor": 0
}