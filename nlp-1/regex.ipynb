{
 "cells": [
  {
   "cell_type": "code",
   "execution_count": 1,
   "metadata": {
    "collapsed": true,
    "pycharm": {
     "name": "#%%\n"
    }
   },
   "outputs": [
    {
     "name": "stdout",
     "output_type": "stream",
     "text": [
      "True\n",
      "(4, 9)\n",
      "(4, 9)\n",
      "(19, 24)\n"
     ]
    }
   ],
   "source": [
    "text = 'The phone number of the agent is 408-555-1234. Call soon!'\n",
    "print('phone' in text)\n",
    "\n",
    "\n",
    "import re\n",
    "\n",
    "pattern = \"phone\"\n",
    "match = re.search(pattern, text)\n",
    "print(match.span())\n",
    "\n",
    "text_1 = 'the phone is a new phone'\n",
    "all_matches = re.findall(pattern, text_1)\n",
    "len(all_matches)\n",
    "\n",
    "for match in re.finditer(pattern, text_1):\n",
    "    print(match.span())"
   ]
  },
  {
   "cell_type": "markdown",
   "source": [
    "# Patterns\n",
    "\n",
    "<table ><tr><th>Character</th><th>Description</th><th>Example Pattern Code</th><th >Exammple Match</th></tr>\n",
    "<tr ><td><span >\\d</span></td><td>A digit</td><td>file_\\d\\d</td><td>file_25</td></tr>\n",
    "<tr ><td><span >\\w</span></td><td>Alphanumeric</td><td>\\w-\\w\\w\\w</td><td>A-b_1</td></tr>\n",
    "<tr ><td><span >\\s</span></td><td>White space</td><td>a\\sb\\sc</td><td>a b c</td></tr>\n",
    "<tr ><td><span >\\D</span></td><td>A non digit</td><td>\\D\\D\\D</td><td>ABC</td></tr>\n",
    "<tr ><td><span >\\W</span></td><td>Non-alphanumeric</td><td>\\W\\W\\W\\W\\W</td><td>*-+=)</td></tr>\n",
    "<tr ><td><span >\\S</span></td><td>Non-whitespace</td><td>\\S\\S\\S\\S</td><td>Yoyo</td></tr></table>"
   ],
   "metadata": {
    "collapsed": false,
    "pycharm": {
     "name": "#%% md\n"
    }
   }
  },
  {
   "cell_type": "code",
   "execution_count": 2,
   "outputs": [
    {
     "data": {
      "text/plain": "'408-555-1234'"
     },
     "execution_count": 2,
     "metadata": {},
     "output_type": "execute_result"
    }
   ],
   "source": [
    "pattern = r'\\d\\d\\d-\\d\\d\\d-\\d\\d\\d\\d'\n",
    "phone = re.search(pattern,text)\n",
    "phone.group()"
   ],
   "metadata": {
    "collapsed": false,
    "pycharm": {
     "name": "#%%\n"
    }
   }
  },
  {
   "cell_type": "markdown",
   "source": [
    "# Quantifiers\n",
    "\n",
    "<table ><tr><th>Character</th><th>Description</th><th>Example Pattern Code</th><th >Exammple Match</th></tr>\n",
    "<tr ><td><span >+</span></td><td>Occurs one or more times</td><td>\tVersion \\w-\\w+</td><td>Version A-b1_1</td></tr>\n",
    "<tr ><td><span >{3}</span></td><td>Occurs exactly 3 times</td><td>\\D{3}</td><td>abc</td></tr>\n",
    "<tr ><td><span >{2,4}</span></td><td>Occurs 2 to 4 times</td><td>\\d{2,4}</td><td>123</td></tr>\n",
    "<tr ><td><span >{3,}</span></td><td>Occurs 3 or more</td><td>\\w{3,}</td><td>anycharacters</td></tr>\n",
    "<tr ><td><span >\\*</span></td><td>Occurs zero or more times</td><td>A\\*B\\*C*</td><td>AAACC</td></tr>\n",
    "<tr ><td><span >?</span></td><td>Once or none</td><td>plurals?</td><td>plural</td></tr></table>"
   ],
   "metadata": {
    "collapsed": false,
    "pycharm": {
     "name": "#%% md\n"
    }
   }
  },
  {
   "cell_type": "code",
   "execution_count": 3,
   "outputs": [
    {
     "data": {
      "text/plain": "'408-555-1234'"
     },
     "execution_count": 3,
     "metadata": {},
     "output_type": "execute_result"
    }
   ],
   "source": [
    "pattern = r'\\d{3}-\\d{3}-\\d{4}'\n",
    "phone = re.search(pattern,text)\n",
    "phone.group()"
   ],
   "metadata": {
    "collapsed": false,
    "pycharm": {
     "name": "#%%\n"
    }
   }
  },
  {
   "cell_type": "code",
   "execution_count": 4,
   "outputs": [
    {
     "name": "stdout",
     "output_type": "stream",
     "text": [
      "408-555-1234\n",
      "408\n",
      "555\n",
      "1234\n"
     ]
    }
   ],
   "source": [
    "pattern = r'(\\d{3})-(\\d{3})-(\\d{4})'\n",
    "phone = re.search(pattern,text)\n",
    "print(phone.group())\n",
    "print(phone.group(1))\n",
    "print(phone.group(2))\n",
    "print(phone.group(3))"
   ],
   "metadata": {
    "collapsed": false,
    "pycharm": {
     "name": "#%%\n"
    }
   }
  },
  {
   "cell_type": "code",
   "execution_count": 6,
   "outputs": [
    {
     "name": "stdout",
     "output_type": "stream",
     "text": [
      "<re.Match object; span=(5, 8), match='man'>\n",
      "<re.Match object; span=(5, 10), match='woman'>\n"
     ]
    }
   ],
   "source": [
    "pattern = r'man|woman'\n",
    "print(re.search(pattern, \"This man was here\"))\n",
    "print(re.search(pattern, \"This woman was here\"))"
   ],
   "metadata": {
    "collapsed": false,
    "pycharm": {
     "name": "#%%\n"
    }
   }
  },
  {
   "cell_type": "code",
   "execution_count": 9,
   "outputs": [
    {
     "name": "stdout",
     "output_type": "stream",
     "text": [
      "['cat', 'hat', 'sat', 'lat']\n"
     ]
    }
   ],
   "source": [
    "pattern = r'.at'\n",
    "print(re.findall(pattern, \"The cat in the hat sat splat\"))"
   ],
   "metadata": {
    "collapsed": false,
    "pycharm": {
     "name": "#%%\n"
    }
   }
  },
  {
   "cell_type": "code",
   "execution_count": 15,
   "outputs": [
    {
     "name": "stdout",
     "output_type": "stream",
     "text": [
      "['2']\n",
      "['1']\n"
     ]
    }
   ],
   "source": [
    "#ends with\n",
    "pattern = r'\\d$'\n",
    "print(re.findall(pattern, \"This ends with number 2\"))\n",
    "\n",
    "#starts with\n",
    "pattern = r'^\\d'\n",
    "print(re.findall(pattern, \"1 is the start and this ends with number 2\"))"
   ],
   "metadata": {
    "collapsed": false,
    "pycharm": {
     "name": "#%%\n"
    }
   }
  },
  {
   "cell_type": "code",
   "execution_count": 18,
   "outputs": [
    {
     "data": {
      "text/plain": "['there are ', ' numbers ', ' inside ', ' this sentence']"
     },
     "execution_count": 18,
     "metadata": {},
     "output_type": "execute_result"
    }
   ],
   "source": [
    "phrase = \"there are 3 numbers 34 inside 5 this sentence\"\n",
    "pattern = r'[^\\d]+'\n",
    "re.findall(pattern, phrase)"
   ],
   "metadata": {
    "collapsed": false,
    "pycharm": {
     "name": "#%%\n"
    }
   }
  },
  {
   "cell_type": "code",
   "execution_count": 24,
   "outputs": [
    {
     "name": "stdout",
     "output_type": "stream",
     "text": [
      "this is a string but is has punctuation How to remove it\n"
     ]
    }
   ],
   "source": [
    "phrase = \"this is a string! but is has punctuation. How to remove it?\"\n",
    "pattern = r'[^!.? ]+'\n",
    "phrase_without_punct = re.findall(pattern, phrase)\n",
    "phrase_without_punct = ' '.join(phrase_without_punct)\n",
    "print(phrase_without_punct)"
   ],
   "metadata": {
    "collapsed": false,
    "pycharm": {
     "name": "#%%\n"
    }
   }
  },
  {
   "cell_type": "code",
   "execution_count": 25,
   "outputs": [
    {
     "name": "stdout",
     "output_type": "stream",
     "text": [
      "['hyphen-words', 'long-ish']\n"
     ]
    }
   ],
   "source": [
    "text = 'Only find the hyphen-words. Were are the long-ish dash words ?'\n",
    "pattern = r'[\\w]+-[\\w]+'\n",
    "hyph_words = re.findall(pattern, text)\n",
    "print(hyph_words)"
   ],
   "metadata": {
    "collapsed": false,
    "pycharm": {
     "name": "#%%\n"
    }
   }
  }
 ],
 "metadata": {
  "kernelspec": {
   "display_name": "Python 3",
   "language": "python",
   "name": "python3"
  },
  "language_info": {
   "codemirror_mode": {
    "name": "ipython",
    "version": 2
   },
   "file_extension": ".py",
   "mimetype": "text/x-python",
   "name": "python",
   "nbconvert_exporter": "python",
   "pygments_lexer": "ipython2",
   "version": "2.7.6"
  }
 },
 "nbformat": 4,
 "nbformat_minor": 0
}